{
 "cells": [
  {
   "cell_type": "code",
   "execution_count": 1,
   "metadata": {
    "collapsed": true
   },
   "outputs": [],
   "source": [
    "import cv2\n",
    "import geopandas as gpd\n",
    "import matplotlib.pyplot as plt\n",
    "import numpy as np\n",
    "import random\n",
    "from collections import Counter\n",
    "import datetime\n",
    "import pickle\n",
    "import copy\n",
    "\n",
    "import os\n",
    "import rasterio\n",
    "import shapely.geometry\n",
    "\n",
    "#%matplotlib inline\n",
    "#%config InlineBackend.figure_format = 'retina'"
   ]
  },
  {
   "cell_type": "code",
   "execution_count": 2,
   "metadata": {
    "collapsed": true
   },
   "outputs": [],
   "source": [
    "from sklearn.cluster import dbscan"
   ]
  },
  {
   "cell_type": "code",
   "execution_count": 3,
   "metadata": {
    "collapsed": true
   },
   "outputs": [],
   "source": [
    "output_dir = \"/home/ubuntu/data/TX_paired/\""
   ]
  },
  {
   "cell_type": "code",
   "execution_count": 4,
   "metadata": {},
   "outputs": [
    {
     "data": {
      "text/html": [
       "<div>\n",
       "<style>\n",
       "    .dataframe thead tr:only-child th {\n",
       "        text-align: right;\n",
       "    }\n",
       "\n",
       "    .dataframe thead th {\n",
       "        text-align: left;\n",
       "    }\n",
       "\n",
       "    .dataframe tbody tr th {\n",
       "        vertical-align: top;\n",
       "    }\n",
       "</style>\n",
       "<table border=\"1\" class=\"dataframe\">\n",
       "  <thead>\n",
       "    <tr style=\"text-align: right;\">\n",
       "      <th></th>\n",
       "      <th>tile_no</th>\n",
       "      <th>%flooded</th>\n",
       "      <th>post-storm_full</th>\n",
       "      <th>pre-storm_full</th>\n",
       "      <th>post-storm_resized</th>\n",
       "      <th>pre-storm_resized</th>\n",
       "      <th>course_mask_full</th>\n",
       "      <th>course_mask_resized</th>\n",
       "      <th>fine_make_filename</th>\n",
       "      <th>footprint</th>\n",
       "      <th>dry/wet</th>\n",
       "      <th>mask_poly</th>\n",
       "      <th>tile_transform</th>\n",
       "      <th>geometry</th>\n",
       "      <th>DBScan</th>\n",
       "    </tr>\n",
       "  </thead>\n",
       "  <tbody>\n",
       "    <tr>\n",
       "      <th>0</th>\n",
       "      <td>0</td>\n",
       "      <td>0.80323</td>\n",
       "      <td>0_post_resize_img</td>\n",
       "      <td>0_pre_resize_img</td>\n",
       "      <td>0_post_full_img</td>\n",
       "      <td>0_pre_full_img</td>\n",
       "      <td>0_mask</td>\n",
       "      <td>0_resize_mask</td>\n",
       "      <td>None</td>\n",
       "      <td>3002220.tif</td>\n",
       "      <td>wet</td>\n",
       "      <td>(POLYGON ((-95.57181511210993 29.4410615808823...</td>\n",
       "      <td>[222822.4, 0.0, 0.0, -222822.4, 21295616.0, 65...</td>\n",
       "      <td>POLYGON ((-95.56985294117646 29.44106158088235...</td>\n",
       "      <td>None</td>\n",
       "    </tr>\n",
       "  </tbody>\n",
       "</table>\n",
       "</div>"
      ],
      "text/plain": [
       "  tile_no %flooded    post-storm_full    pre-storm_full post-storm_resized  \\\n",
       "0       0  0.80323  0_post_resize_img  0_pre_resize_img    0_post_full_img   \n",
       "\n",
       "  pre-storm_resized course_mask_full course_mask_resized fine_make_filename  \\\n",
       "0    0_pre_full_img           0_mask       0_resize_mask               None   \n",
       "\n",
       "     footprint dry/wet                                          mask_poly  \\\n",
       "0  3002220.tif     wet  (POLYGON ((-95.57181511210993 29.4410615808823...   \n",
       "\n",
       "                                      tile_transform  \\\n",
       "0  [222822.4, 0.0, 0.0, -222822.4, 21295616.0, 65...   \n",
       "\n",
       "                                            geometry DBScan  \n",
       "0  POLYGON ((-95.56985294117646 29.44106158088235...   None  "
      ]
     },
     "execution_count": 4,
     "metadata": {},
     "output_type": "execute_result"
    }
   ],
   "source": [
    "#first time use:\n",
    "geo_df = pickle.load( open( output_dir+\"GeoDataFrame.pickled\", \"rb\" ))\n",
    "\n",
    "#after use:\n",
    "#geo_df = pickle.load( open( output_dir+\"GeoDataFrame_fine.pickled\", \"rb\" ))\n",
    "geo_df['DBScan']=None\n",
    "geo_df.set_index(\"tile_no\")\n",
    "geo_df.head(1)"
   ]
  },
  {
   "cell_type": "code",
   "execution_count": null,
   "metadata": {
    "collapsed": true
   },
   "outputs": [],
   "source": []
  },
  {
   "cell_type": "code",
   "execution_count": 5,
   "metadata": {
    "collapsed": true
   },
   "outputs": [],
   "source": [
    "#get tile_no for those tiles with more than a little flooding\n",
    "t = geo_df[\"%flooded\"] > 0.00\n",
    "sum(t)\n",
    "tiles = geo_df[t].tile_no"
   ]
  },
  {
   "cell_type": "code",
   "execution_count": 6,
   "metadata": {},
   "outputs": [
    {
     "data": {
      "text/plain": [
       "array([0, 1, 2, ..., 4402, 4403, 4404], dtype=object)"
      ]
     },
     "execution_count": 6,
     "metadata": {},
     "output_type": "execute_result"
    }
   ],
   "source": [
    "tiles.values"
   ]
  },
  {
   "cell_type": "code",
   "execution_count": 7,
   "metadata": {},
   "outputs": [
    {
     "name": "stdout",
     "output_type": "stream",
     "text": [
      "('working on tile #:', 0)\n",
      "[833074 901314 522068]\n",
      "('floodwater/mud at id', 0)\n",
      "('working on tile #:', 1)\n",
      "[2391991 2616671 1516053]\n",
      "('floodwater/mud at id', 0)\n",
      "('working on tile #:', 2)\n",
      "[2209550 2498232 1387768]\n",
      "('floodwater/mud at id', 0)\n",
      "('working on tile #:', 3)\n",
      "[4595520 5356556 4788798]\n",
      "('too grey, reject cluster', 0, 0.065732797609628302)\n",
      "[0 0 0]\n",
      "('floodwater/mud at id', 1)\n"
     ]
    },
    {
     "name": "stderr",
     "output_type": "stream",
     "text": [
      "/usr/local/lib/python2.7/dist-packages/ipykernel_launcher.py:50: RuntimeWarning: invalid value encountered in double_scalars\n",
      "/usr/local/lib/python2.7/dist-packages/ipykernel_launcher.py:57: RuntimeWarning: invalid value encountered in double_scalars\n"
     ]
    },
    {
     "name": "stdout",
     "output_type": "stream",
     "text": [
      "('working on tile #:', 4)\n",
      "[0 0 0]\n",
      "('floodwater/mud at id', 2)\n",
      "('working on tile #:', 5)\n"
     ]
    },
    {
     "ename": "KeyboardInterrupt",
     "evalue": "",
     "output_type": "error",
     "traceback": [
      "\u001b[0;31m---------------------------------------------------------------------------\u001b[0m",
      "\u001b[0;31mKeyboardInterrupt\u001b[0m                         Traceback (most recent call last)",
      "\u001b[0;32m<ipython-input-7-b719801a41bf>\u001b[0m in \u001b[0;36m<module>\u001b[0;34m()\u001b[0m\n\u001b[1;32m     17\u001b[0m     \u001b[0mflat_img\u001b[0m \u001b[0;34m=\u001b[0m \u001b[0mnp\u001b[0m\u001b[0;34m.\u001b[0m\u001b[0mreshape\u001b[0m\u001b[0;34m(\u001b[0m\u001b[0mfeatures\u001b[0m\u001b[0;34m,\u001b[0m\u001b[0;34m(\u001b[0m\u001b[0mfeatures\u001b[0m\u001b[0;34m.\u001b[0m\u001b[0mshape\u001b[0m\u001b[0;34m[\u001b[0m\u001b[0;36m0\u001b[0m\u001b[0;34m]\u001b[0m\u001b[0;34m**\u001b[0m\u001b[0;36m2\u001b[0m\u001b[0;34m,\u001b[0m\u001b[0mfeatures\u001b[0m\u001b[0;34m.\u001b[0m\u001b[0mshape\u001b[0m\u001b[0;34m[\u001b[0m\u001b[0;36m2\u001b[0m\u001b[0;34m]\u001b[0m\u001b[0;34m)\u001b[0m\u001b[0;34m)\u001b[0m\u001b[0;34m\u001b[0m\u001b[0m\n\u001b[1;32m     18\u001b[0m \u001b[0;34m\u001b[0m\u001b[0m\n\u001b[0;32m---> 19\u001b[0;31m     \u001b[0mclustered\u001b[0m \u001b[0;34m=\u001b[0m \u001b[0mdbscan\u001b[0m\u001b[0;34m(\u001b[0m\u001b[0mflat_img\u001b[0m\u001b[0;34m,\u001b[0m\u001b[0meps\u001b[0m\u001b[0;34m=\u001b[0m\u001b[0;36m1.7\u001b[0m\u001b[0;34m,\u001b[0m\u001b[0mmin_samples\u001b[0m\u001b[0;34m=\u001b[0m\u001b[0;36m100\u001b[0m\u001b[0;34m,\u001b[0m\u001b[0mn_jobs\u001b[0m\u001b[0;34m=\u001b[0m\u001b[0;34m-\u001b[0m\u001b[0;36m2\u001b[0m\u001b[0;34m)\u001b[0m\u001b[0;34m\u001b[0m\u001b[0m\n\u001b[0m\u001b[1;32m     20\u001b[0m \u001b[0;34m\u001b[0m\u001b[0m\n\u001b[1;32m     21\u001b[0m     \u001b[0;31m#make new mask (of all labels for now)\u001b[0m\u001b[0;34m\u001b[0m\u001b[0;34m\u001b[0m\u001b[0m\n",
      "\u001b[0;32m/usr/local/lib/python2.7/dist-packages/sklearn/cluster/dbscan_.pyc\u001b[0m in \u001b[0;36mdbscan\u001b[0;34m(X, eps, min_samples, metric, metric_params, algorithm, leaf_size, p, sample_weight, n_jobs)\u001b[0m\n\u001b[1;32m    157\u001b[0m     \u001b[0;31m# A list of all core samples found.\u001b[0m\u001b[0;34m\u001b[0m\u001b[0;34m\u001b[0m\u001b[0m\n\u001b[1;32m    158\u001b[0m     \u001b[0mcore_samples\u001b[0m \u001b[0;34m=\u001b[0m \u001b[0mnp\u001b[0m\u001b[0;34m.\u001b[0m\u001b[0masarray\u001b[0m\u001b[0;34m(\u001b[0m\u001b[0mn_neighbors\u001b[0m \u001b[0;34m>=\u001b[0m \u001b[0mmin_samples\u001b[0m\u001b[0;34m,\u001b[0m \u001b[0mdtype\u001b[0m\u001b[0;34m=\u001b[0m\u001b[0mnp\u001b[0m\u001b[0;34m.\u001b[0m\u001b[0muint8\u001b[0m\u001b[0;34m)\u001b[0m\u001b[0;34m\u001b[0m\u001b[0m\n\u001b[0;32m--> 159\u001b[0;31m     \u001b[0mdbscan_inner\u001b[0m\u001b[0;34m(\u001b[0m\u001b[0mcore_samples\u001b[0m\u001b[0;34m,\u001b[0m \u001b[0mneighborhoods\u001b[0m\u001b[0;34m,\u001b[0m \u001b[0mlabels\u001b[0m\u001b[0;34m)\u001b[0m\u001b[0;34m\u001b[0m\u001b[0m\n\u001b[0m\u001b[1;32m    160\u001b[0m     \u001b[0;32mreturn\u001b[0m \u001b[0mnp\u001b[0m\u001b[0;34m.\u001b[0m\u001b[0mwhere\u001b[0m\u001b[0;34m(\u001b[0m\u001b[0mcore_samples\u001b[0m\u001b[0;34m)\u001b[0m\u001b[0;34m[\u001b[0m\u001b[0;36m0\u001b[0m\u001b[0;34m]\u001b[0m\u001b[0;34m,\u001b[0m \u001b[0mlabels\u001b[0m\u001b[0;34m\u001b[0m\u001b[0m\n\u001b[1;32m    161\u001b[0m \u001b[0;34m\u001b[0m\u001b[0m\n",
      "\u001b[0;31mKeyboardInterrupt\u001b[0m: "
     ]
    }
   ],
   "source": [
    "#run a subset of data at a time in case DBSCAN kills the kernel\n",
    "for tile_no in tiles.values[:]:\n",
    "    print(\"working on tile #:\",tile_no)\n",
    "    \n",
    "    #load files\n",
    "    img_post = np.load(output_dir+'%d_post_resize_img.npy'%tile_no)\n",
    "    img_pre  = np.load(output_dir+'%d_pre_resize_img.npy'%tile_no)\n",
    "    mask = np.load(output_dir+'%d_resize_mask.npy'%tile_no)\n",
    "    \n",
    "    #combine features\n",
    "    features=img_post\n",
    "    #add in subtracted image is a feature\n",
    "    #img_diff = 0.2*(img_post-img_pre)\n",
    "    #features = np.stack((img_post[:,:,0],img_post[:,:,1],img_post[:,:,2],img_diff[:,:,0],img_diff[:,:,1],img_diff[:,:,2]),axis=2)\n",
    "    #features.shape\n",
    "    \n",
    "    flat_img = np.reshape(features,(features.shape[0]**2,features.shape[2]))\n",
    "    \n",
    "    clustered = dbscan(flat_img,eps=1.7,min_samples=100,n_jobs=-2)\n",
    "    \n",
    "    #make new mask (of all labels for now)\n",
    "    side = int(clustered[1].shape[0]**0.5)\n",
    "    DBScan_mask = np.reshape(clustered[1],(side,side))\n",
    "    #make backup copy to save for review\n",
    "    DBScan_mask_original = copy.deepcopy(DBScan_mask)\n",
    "    \n",
    "    #order the clusters\n",
    "    c_count=Counter(DBScan_mask.flatten())\n",
    "    order = [x[0] for x in c_count.most_common() if x[0]>= 0]  #gets cluster index, AND throws out the negative-1 group\n",
    "\n",
    "    \n",
    "    #routine that checks of the masked area is too grey or green, and moves down the list of clusters it is\n",
    "    \n",
    "    ready = False\n",
    "    dry = False\n",
    "    while ready==False:\n",
    "        if len(order)==0:\n",
    "            ready = True\n",
    "            dry = True\n",
    "            c_id = None\n",
    "            break\n",
    "            #continue\n",
    "\n",
    "        c_id = order[0]\n",
    "        color_sum = (img_post*(np.expand_dims(mask==c_id,axis=2))).sum(axis=(0,1))\n",
    "        #print(color_sum)\n",
    "        #print(1.0*color_sum[1]/color_sum[0])\n",
    "\n",
    "        #reject if too grey/white/black 0.108-->0.102-->0.100\n",
    "        if color_sum.std()*1.0/color_sum.mean() < 0.100:   \n",
    "            print(\"too grey, reject cluster\",order[0],color_sum.std()*1.0/color_sum.mean())\n",
    "            order.pop(0)\n",
    "            continue\n",
    "\n",
    "        #if the most common color is too green, reject it and move to the next  1.1-->1.2-->1.18--> 1.13-->1.1\n",
    "\n",
    "        elif 1.0*color_sum[1]/color_sum[0] > 1.2:  \n",
    "            print(color_sum[1]*1.0/color_sum[0])\n",
    "            print(\"too green, reject cluster \",order[0])\n",
    "            order.pop(0)\n",
    "\n",
    "        else:ready=True\n",
    "\n",
    "    print(\"floodwater/mud at id\",c_id)\n",
    "    \n",
    "    if dry == True: fine_mask = np.zeros((side,side),dtype='int64')  #the mask data type should match\n",
    "    else: fine_mask = 1*(DBScan_mask==c_id)\n",
    "    \n",
    "    np.save(output_dir+\"%d_256_DBSCAN\"%tile_no, DBScan_mask_original)\n",
    "    np.save(output_dir+\"%d_256_fine_mask\"%tile_no, fine_mask)\n",
    "        \n",
    "    #update the entry to the geopandas Dataframe with the filename\n",
    "    geo_df.DBScan[tile_no] = \"%d_256_DBSCAN\"%tile_no\n",
    "    geo_df.fine_make_filename[tile_no] = \"%d_256_fine_mask\"%tile_no\n",
    "\n",
    "    #write geopandas to file too\n",
    "    geo_df.to_pickle(output_dir+\"GeoDataFrame_fine.pickled\")\n"
   ]
  },
  {
   "cell_type": "code",
   "execution_count": null,
   "metadata": {
    "collapsed": true
   },
   "outputs": [],
   "source": []
  },
  {
   "cell_type": "code",
   "execution_count": null,
   "metadata": {
    "collapsed": true
   },
   "outputs": [],
   "source": [
    "\"\"\"    #plot for monitoring\n",
    "    fig, (ax1,ax2,ax3,ax4) = plt.subplots(1, 4, figsize=(18,6))\n",
    "    ax1.set_title(\"Post-flood Image\")\n",
    "    ax2.set_title(\"Post-flood Image w/ mask\")\n",
    "    ax3.set_title(\"Pre-flood Image\")\n",
    "    ax4.set_title(\"clusters\")\n",
    "    ax1.imshow(img_post)\n",
    "    ax2.imshow(img_post)\n",
    "    ax2.imshow(fine_mask,cmap='bwr',alpha = 0.2)\n",
    "    ax3.imshow(img_pre)\n",
    "    plt.imshow(DBScan_mask)\n",
    "    plt.colorbar()\n",
    "    plt.show();\"\"\""
   ]
  },
  {
   "cell_type": "markdown",
   "metadata": {
    "collapsed": true
   },
   "source": [
    "# plotting routines"
   ]
  },
  {
   "cell_type": "markdown",
   "metadata": {},
   "source": [
    "fig, (ax1, ax2) = plt.subplots(1, 2, figsize=(12,6))\n",
    "ax1.set_title(\"Flood Water Only\")\n",
    "ax2.set_title(\"Flood Water removed\")\n",
    "ax1.imshow(img_post*(np.expand_dims(DBScan_mask==c_id,axis=2)) )\n",
    "ax2.imshow(img_post*(np.expand_dims(DBScan_mask!=c_id,axis=2)));\n",
    "\n",
    "fig, (ax1, ax2,ax3) = plt.subplots(1, 3, figsize=(18,6))\n",
    "ax1.set_title(\"difference image\")\n",
    "ax2.set_title(\"New Image Mask(Label)\")\n",
    "ax3.set_title(\"DigitalGlobe MDA Shapefile label\")\n",
    "ax1.imshow(img_diff)\n",
    "ax2.imshow(255.*(DBScan_mask==c_id))\n",
    "ax3.imshow(mask);\n",
    "\n",
    "fig, (ax1, ax2,ax3) = plt.subplots(1, 3, figsize=(18,6))\n",
    "ax1.set_title(\"Post-flood Image\")\n",
    "ax2.set_title(\"DBSCAN Clusters\")\n",
    "ax3.set_title(\"Pre-flood Image\")\n",
    "ax1.imshow(img_post)\n",
    "ax2.imshow(DBScan_mask)\n",
    "ax3.imshow(img_pre);"
   ]
  },
  {
   "cell_type": "markdown",
   "metadata": {},
   "source": [
    "fig, (ax1, ax2,ax3,ax4) = plt.subplots(1, 4, figsize=(18,6))\n",
    "ax1.set_title(\"Post-flood Image\")\n",
    "ax2.set_title(\"Post-flood Image w/ mask\")\n",
    "ax3.set_title(\"Pre-flood Image\")\n",
    "ax4.set_title(\"clusters\")\n",
    "ax1.imshow(img_post)\n",
    "ax2.imshow(img_post)\n",
    "ax2.imshow(1-(DBScan_mask==c_id),cmap='bwr',alpha = 0.2)\n",
    "ax3.imshow(img_pre)\n",
    "plt.imshow(DBScan_mask)\n",
    "plt.colorbar();"
   ]
  },
  {
   "cell_type": "code",
   "execution_count": null,
   "metadata": {
    "collapsed": true
   },
   "outputs": [],
   "source": []
  },
  {
   "cell_type": "code",
   "execution_count": null,
   "metadata": {
    "collapsed": true
   },
   "outputs": [],
   "source": []
  },
  {
   "cell_type": "code",
   "execution_count": null,
   "metadata": {
    "collapsed": true
   },
   "outputs": [],
   "source": []
  },
  {
   "cell_type": "code",
   "execution_count": null,
   "metadata": {
    "collapsed": true
   },
   "outputs": [],
   "source": []
  },
  {
   "cell_type": "code",
   "execution_count": null,
   "metadata": {
    "collapsed": true
   },
   "outputs": [],
   "source": []
  },
  {
   "cell_type": "code",
   "execution_count": null,
   "metadata": {
    "collapsed": true
   },
   "outputs": [],
   "source": []
  },
  {
   "cell_type": "code",
   "execution_count": null,
   "metadata": {
    "collapsed": true
   },
   "outputs": [],
   "source": []
  },
  {
   "cell_type": "code",
   "execution_count": null,
   "metadata": {
    "collapsed": true
   },
   "outputs": [],
   "source": []
  },
  {
   "cell_type": "code",
   "execution_count": null,
   "metadata": {
    "collapsed": true
   },
   "outputs": [],
   "source": []
  },
  {
   "cell_type": "code",
   "execution_count": null,
   "metadata": {
    "collapsed": true
   },
   "outputs": [],
   "source": []
  },
  {
   "cell_type": "code",
   "execution_count": null,
   "metadata": {
    "collapsed": true
   },
   "outputs": [],
   "source": []
  }
 ],
 "metadata": {
  "kernelspec": {
   "display_name": "Python 2",
   "language": "python",
   "name": "python2"
  },
  "language_info": {
   "codemirror_mode": {
    "name": "ipython",
    "version": 2
   },
   "file_extension": ".py",
   "mimetype": "text/x-python",
   "name": "python",
   "nbconvert_exporter": "python",
   "pygments_lexer": "ipython2",
   "version": "2.7.12"
  }
 },
 "nbformat": 4,
 "nbformat_minor": 2
}
